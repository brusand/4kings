{
 "cells": [
  {
   "cell_type": "code",
   "execution_count": 1,
   "id": "051e8dbf",
   "metadata": {},
   "outputs": [],
   "source": [
    "import numpy as np\n",
    "import pandas as pd\n",
    "import os\n",
    "import os.path\n",
    "\n",
    "import ipywidgets as widgets\n",
    "import bqplot as bq\n",
    "import bqplot.pyplot as plt\n",
    "from bqplot import OrdinalScale\n",
    "import datetime as dt\n",
    "from datetime import datetime"
   ]
  },
  {
   "cell_type": "code",
   "execution_count": null,
   "id": "9704e5ef",
   "metadata": {},
   "outputs": [],
   "source": []
  },
  {
   "cell_type": "code",
   "execution_count": 13,
   "id": "c0776e57",
   "metadata": {},
   "outputs": [],
   "source": [
    "stake = 'BNB'\n",
    "ticker = 'ROSE'\n",
    "timerange = '1m'\n",
    "time_interval = 100\n",
    "rolling = 0"
   ]
  },
  {
   "cell_type": "code",
   "execution_count": 14,
   "id": "e06d1678",
   "metadata": {},
   "outputs": [],
   "source": [
    "def get_ticker_histo(stake,  ticker, timerange):\n",
    "        dataframe = pd.DataFrame([], columns=['otime', 'open', 'high', 'low', 'close', 'volume', 'ctime', 'quote',\n",
    "                                         'trades', 'TB Base Volume', 'TB Quote Volume', 'ignore'])\n",
    "        #print('data/'+ timerange)\n",
    "        for filename in os.listdir('data/'+ timerange ) :\n",
    "            if ticker+stake in filename:\n",
    "                try:\n",
    "                    df = pd.read_csv('data/'+ timerange +'/'+ filename)\n",
    "                    dataframe = dataframe.append(df, ignore_index=True)\n",
    "                    dataframe.sort_values('otime', inplace=True)\n",
    "                    dataframe.drop_duplicates('otime', keep='last', inplace=True)\n",
    "                finally:\n",
    "                   #print(ticker, filename)\n",
    "                    continue\n",
    "            else:\n",
    "                continue\n",
    "        return dataframe"
   ]
  },
  {
   "cell_type": "code",
   "execution_count": null,
   "id": "9afadf0c",
   "metadata": {},
   "outputs": [],
   "source": []
  },
  {
   "cell_type": "code",
   "execution_count": 15,
   "id": "e604bb66",
   "metadata": {},
   "outputs": [],
   "source": [
    "data = get_ticker_histo(stake, ticker, timerange)\n",
    "\n",
    "\n",
    "df = pd.DataFrame([], columns=['otime', 'open', 'high', 'low', 'close', 'volume', 'ctime', 'quote',\n",
    "                                         'trades', 'TB Base Volume', 'TB Quote Volume', 'ignore'])\n",
    "df = data.iloc[:1]"
   ]
  },
  {
   "cell_type": "code",
   "execution_count": 16,
   "id": "d0e20148",
   "metadata": {},
   "outputs": [],
   "source": [
    "timeframe_slider = widgets.IntSlider(\n",
    "    min=1, max=len(data), description=\"timeframe\", value=1\n",
    ")\n"
   ]
  },
  {
   "cell_type": "code",
   "execution_count": 17,
   "id": "a6f851bf",
   "metadata": {
    "scrolled": true
   },
   "outputs": [],
   "source": [
    "    #wealth_scat.x, wealth_scat.y, wealth_scat.size = get_data(year_slider.value)\n",
    "    #declare figure\n",
    "\n",
    "from bqplot import OrdinalScale\n",
    "\n",
    "fig = plt.figure()\n",
    "plt.scales(scales={\"x\": OrdinalScale()})\n",
    "axes_options = {\n",
    "    \"x\": {\"label\": \"X\", \"tick_format\": \"%d-%m-%Y %H:%M\"},\n",
    "    \"y\": {\"label\": \"Y\", \"tick_format\": \".2f\"},\n",
    "}\n",
    "\n",
    "candle_stick = plt.ohlc(\n",
    "    df['otime'].index,\n",
    "    df[[\"open\",\"high\",\"low\",\"close\"]],\n",
    "    stroke_width=1.5, stroke=\"black\", padding=0.2,\n",
    "    label_display=True, label_display_vertical_offset=-20,\n",
    "    label_font_style={\"font-weight\":\"bold\", \"font-size\":\"15px\", \"fill\": \"white\"},\n",
    ")\n",
    "\n",
    "    \n",
    "    "
   ]
  },
  {
   "cell_type": "code",
   "execution_count": 18,
   "id": "e10cb54f",
   "metadata": {},
   "outputs": [],
   "source": [
    "def timeframe_changed(change):\n",
    "    #wealth_scat.x, wealth_scat.y, wealth_scat.size = get_data(year_slider.value)\n",
    "    #year_label.text = [str(year_slider.value)]\n",
    "    print(timeframe_slider)\n",
    "    if rolling == 0 or timeframe_slider.value < rolling :\n",
    "        start = 1\n",
    "    else:\n",
    "        start = timeframe_slider.value - rolling\n",
    "    \n",
    "    df  = data.iloc[start:timeframe_slider.value]\n",
    "\n",
    "    candle_stick.x = df.index\n",
    "    candle_stick.y = df[[\"open\", \"high\", \"low\", \"close\"]]\n",
    "\n",
    "\n"
   ]
  },
  {
   "cell_type": "code",
   "execution_count": 9,
   "id": "ebc19f4c",
   "metadata": {},
   "outputs": [],
   "source": [
    "timeframe_slider.observe(timeframe_changed, \"value\")"
   ]
  },
  {
   "cell_type": "code",
   "execution_count": 19,
   "id": "9e729f96",
   "metadata": {},
   "outputs": [
    {
     "data": {
      "application/vnd.jupyter.widget-view+json": {
       "model_id": "7e0daf3bb80d4cc191a25aced8f1a15d",
       "version_major": 2,
       "version_minor": 0
      },
      "text/plain": [
       "VBox(children=(HBox(children=(Play(value=1, max=1439, min=1), IntSlider(value=1, description='timeframe', max=…"
      ]
     },
     "metadata": {},
     "output_type": "display_data"
    }
   ],
   "source": [
    "play_button = widgets.Play(min=1, max=len(data), interval=100)\n",
    "widgets.jslink((play_button, \"value\"), (timeframe_slider, \"value\"))\n",
    "widgets.VBox([widgets.HBox([play_button, timeframe_slider]), fig])"
   ]
  },
  {
   "cell_type": "code",
   "execution_count": null,
   "id": "4e9da6ca",
   "metadata": {},
   "outputs": [],
   "source": []
  },
  {
   "cell_type": "code",
   "execution_count": null,
   "id": "22272d71",
   "metadata": {},
   "outputs": [],
   "source": []
  },
  {
   "cell_type": "code",
   "execution_count": null,
   "id": "de026e63",
   "metadata": {},
   "outputs": [],
   "source": []
  },
  {
   "cell_type": "code",
   "execution_count": null,
   "id": "f301c609",
   "metadata": {},
   "outputs": [],
   "source": []
  },
  {
   "cell_type": "code",
   "execution_count": null,
   "id": "ee60d17c",
   "metadata": {},
   "outputs": [],
   "source": []
  }
 ],
 "metadata": {
  "kernelspec": {
   "display_name": "Python 3 (ipykernel)",
   "language": "python",
   "name": "python3"
  },
  "language_info": {
   "codemirror_mode": {
    "name": "ipython",
    "version": 3
   },
   "file_extension": ".py",
   "mimetype": "text/x-python",
   "name": "python",
   "nbconvert_exporter": "python",
   "pygments_lexer": "ipython3",
   "version": "3.9.6"
  }
 },
 "nbformat": 4,
 "nbformat_minor": 5
}
